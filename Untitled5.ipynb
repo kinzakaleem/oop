{
  "nbformat": 4,
  "nbformat_minor": 0,
  "metadata": {
    "colab": {
      "provenance": []
    },
    "kernelspec": {
      "name": "python3",
      "display_name": "Python 3"
    },
    "language_info": {
      "name": "python"
    }
  },
  "cells": [
    {
      "cell_type": "markdown",
      "source": [
        "# OOP\n",
        "\n",
        "1. What is oop?\n",
        "- OOP is a programming paradiqm based on the concept of \"objects\" which are instance of classes. it organizes software design around data(objects) rather than functions and logic. OOP is widely used in modern programming languages like python and java\n",
        "\n",
        "2. What is a class in oop\n",
        "- A class in oop is a blueprint or template for creating objects. it defines the properties (attributes) and behaviours (methods) that the objects created from the class will have.\n",
        "\n",
        "3. what is a object in oop\n",
        "- an object in oop is an instance of a class. it is a real world entity which has attributes(data) and methods (behaviour) defined by its class.\n",
        "\n",
        "4. what is the difference between abstraction and encapsulation\n",
        "- abstraction and encapsulation are both fundatamental concepts in oop, but they serve different purposes\n",
        "Abstraction hides complex implementation details and showing only necessary features to the users.\n",
        "Encapsulation restricts direct access to certain details of an object and allowing controlled access through method\n",
        "\n",
        "5. what are dunder methods in python\n",
        "- dunder (double underscore) methods, also called magic method or special method, are predefined methods in python that starts and ends with double underscores. these methods allow you to define how objects of a class behave with built in operations like addition, comparison, string representation etc.\n",
        "\n",
        "6. explain the concept of inheritance in object\n",
        "- inheritance is a fundamental oop concept that allows one class (child or subclass) to inherit properties and methods from another class (parent or super class). it promotes code reuse, modularity and extensibility by enabling new classes to built upon existing ones.\n",
        "\n",
        "7. what is polymorphism in oop\n",
        "- it allows objects of different classes to be treated as objects of a common superclass. it enables the same method name or operator to have different behaviours depending upon the object that calls it.\n",
        "\n",
        "8. how is encapsulation achieved in python\n",
        "- it is the process of restricting direct access to an object data and methods while allowing controlled access through defined method. this ensures data security, intergrity, modularity in an oop.\n",
        "\n",
        "9. what is a constructor in python\n",
        "- it is a special method used to initialize an object when it is created. the constructor method is __init__() which is automatically called when a new object of a class in instantiated.\n",
        "\n",
        "10. what are class and static methods in python\n",
        "- these methods are special types of methods that belong to a class rather than a instance. they are defined using decorators and serve different purposes.\n",
        "\n",
        "11. what is method overloading in  python\n",
        "- it is a concept in oop where multiple methods have the same name but different parameters. (i.e different arguments).\n",
        "\n",
        "12. what is method overriding in oop\n",
        "- it is a concept in oop where a childclass redines a method from its parent class. this allows a subclass to provide a specific implementation of a method that is already defined in the parent class.\n",
        "\n",
        "13. what is a property decorator in python\n",
        "- it is used to define getter, setter, and deleter methods for encapsulating class attributes. it allows us to access methods like attributes, providing, controlled access to instance variables.\n",
        "\n",
        "14. why is polymorphism important in python\n",
        "- it the ability of different objects to be treated as instance of the same class. it allows for code reusability, flexability and maintainabilty.\n",
        "\n",
        "15. what is an abstract class\n",
        "- it is a class that cannot be instantiated and must be subclassed to be used. it serves as a blueprint for other classes and typically contain abstract method , which are methods that must be implemented by subclass.\n",
        "\n",
        "16. what are the advantages of oop\n",
        "- inheritance, data hiding, flexabilty, hiding complexity, scalability and maintainability.\n",
        "\n",
        "17. what is the difference between a class variable and an instance variable\n",
        "- class variable define inside the class but outside any method, shared among all instance of the class, changing the class variable affects all instances (unless overridden).\n",
        "instance variable defined inside the contructor __init__() using self, unique for each insatnce of the class. changing the instance variable only affects that specific object.\n",
        "\n",
        "18. what is multiple inheritance in python\n",
        "- it is a feature in python where a class can inherit from more than one parent class. this allows a child class to access attributes and methods from multiple parent class.\n",
        "\n",
        "19. explain the purpose of __str__, __repr__ in python\n",
        "- both are dunder methods that define a object of a class are represented as string. they are used to provide meaningful string representation of an object.\n",
        "\n",
        "20. what is the significance of the super() function in python\n",
        "- the super() function in python is used to call a method from the parent(superclass) in a child class. it is primarily used in inheritance to access parent class method/constructor, avoid code duplication, support multiple inheritance.\n",
        "\n",
        "21. what is the significance of the __del__ method\n",
        "- it is a destructor method that is automatically called when an object is about to be destroyed. it allows you to release resources like files, network connection, or memory before an object is removed.\n",
        "\n",
        "22. what is the difference between static method an class method\n",
        "- static method does not requires self or cls, acts like a regular function in a class, cannot modify class or instance attributes.\n",
        "class method takes cls as the first parameter instead of self, can modify class variables, used when a method needs access to class level attributes\n",
        "\n",
        "23. how does polymorphism works with inheritance\n",
        "- polymorphism is often used with inheritance, where a child class overrides a method from the parent class to provide its own implementation.\n",
        "\n",
        "24. what is method chaining\n",
        "- it is a technique where multiple methods are called on the same object in a single line. it improves code readibility and reduces temporary variables.\n",
        "\n",
        "25. what is the purpose of __call__\n",
        "- it allows an instance of a class to be called like a function.\n",
        "it makes object callable just like function.\n",
        "used in function like classes, decorator, and callbacks\n",
        "\n",
        "\n",
        "\n",
        "\n",
        "\n",
        ""
      ],
      "metadata": {
        "id": "9DHQ9poIDEET"
      }
    },
    {
      "cell_type": "code",
      "source": [
        "# parent class animal with method overridin in dog\n",
        "\n",
        "class animal:\n",
        "  def speak(self):\n",
        "    print(\"animal make a sound\")\n",
        "\n",
        "class dog(animal):\n",
        "  def speak(self):\n",
        "    print(\"bark!\")\n",
        "\n",
        "a = animal()\n",
        "a.speak()\n",
        "\n",
        "d = dog()\n",
        "d.speak()"
      ],
      "metadata": {
        "colab": {
          "base_uri": "https://localhost:8080/"
        },
        "id": "hxA2zFuISsPf",
        "outputId": "5a73349d-c54b-41ef-f93d-d96d68330683"
      },
      "execution_count": 5,
      "outputs": [
        {
          "output_type": "stream",
          "name": "stdout",
          "text": [
            "animal make a sound\n",
            "bark!\n"
          ]
        }
      ]
    },
    {
      "cell_type": "code",
      "source": [
        "# abstract class shape with circle and rectangle implementing area()\n",
        "from abc import ABC, abstractmethod\n",
        "import math\n",
        "\n",
        "# Abstract Base Class\n",
        "class Shape(ABC):\n",
        "  @abstractmethod\n",
        "  def area(self):\n",
        "    pass\n",
        "\n",
        "# Circle Classs\n",
        "class Circle(Shape):\n",
        "  def __init__(self, radius):\n",
        "    self.radius = radius\n",
        "\n",
        "    def area(self):\n",
        "      return math.pi * self.radius * self.radius\n",
        "\n",
        "# Rectangle Class\n",
        "class Rectangle(Shape):\n",
        "  def __init__(self, length, width):\n",
        "    self.length = length\n",
        "    self.width = width\n",
        "\n",
        "    def area(self):\n",
        "      return self.length * self.width\n",
        "\n",
        "\n",
        "\n"
      ],
      "metadata": {
        "id": "3KQLHPvKULAc"
      },
      "execution_count": 23,
      "outputs": []
    },
    {
      "cell_type": "code",
      "source": [
        "# multi level inheritance: vehicle, car, electric car\n",
        "\n",
        "# base class\n",
        "class Vehicle:\n",
        "  def __init__(self, type):\n",
        "    self.type = type\n",
        "\n",
        "    def show_type(self):\n",
        "      return f\"Vehicle Type: {self.type}\"\n",
        "\n",
        "# derived class\n",
        "class Car(Vehicle):\n",
        "  def __init__(self, type, brand):\n",
        "    super().__init__(type)\n",
        "    self.brand = brand\n",
        "\n",
        "    def show_brand(self):\n",
        "      return f\"Car Brand: {self.brand}\"\n",
        "\n",
        "# derived class\n",
        "class ElectricCar(Car):\n",
        "  def __init__(self, type, brand, battery):\n",
        "    super().__init__(type, brand)\n",
        "    self.battery = battery\n",
        "\n",
        "    def show_battery(self):\n",
        "      return f\"Battery Capacity: {self.battery} kWh\"\n",
        "\n"
      ],
      "metadata": {
        "id": "LXd-lSeXULCg"
      },
      "execution_count": 35,
      "outputs": []
    },
    {
      "cell_type": "code",
      "source": [
        "# polymorphism with bird class (fly method override)\n",
        "\n",
        "# Base Class\n",
        "class Bird:\n",
        "  def fly(self):\n",
        "    print(\"Birds can fly\")\n",
        "\n",
        "# Derived Class\n",
        "class Parrot(Bird):\n",
        "  def fly(self):\n",
        "    print(\"Parrots can't fly\")\n",
        "\n",
        "# Derived Class 2\n",
        "class Sparrow(Bird):\n",
        "  def fly(self):\n",
        "    print(\"Sparrows can fly\")\n",
        "\n",
        "# Testing\n",
        "birds = [Parrot(), Sparrow()]\n",
        "for bird in birds:\n",
        "  bird.fly()"
      ],
      "metadata": {
        "colab": {
          "base_uri": "https://localhost:8080/"
        },
        "id": "8vmD1-XDdv79",
        "outputId": "3ccd3900-63c9-4525-c206-a1a8be554d0a"
      },
      "execution_count": 37,
      "outputs": [
        {
          "output_type": "stream",
          "name": "stdout",
          "text": [
            "Parrots can't fly\n",
            "Sparrows can fly\n"
          ]
        }
      ]
    },
    {
      "cell_type": "code",
      "source": [
        "# encapsulation bank account class\n",
        "\n",
        "class bankaccount:\n",
        "  def __init__(self, balance=0):\n",
        "     self.__balance = balance\n",
        "\n",
        "  def deposit(self,amount):\n",
        "    self.deposit += amount\n",
        "    print(f\"deposited {amount}. new balance: {self.__balance}\")\n",
        "\n",
        "  def withdraw(self, amount):\n",
        "    if amount > self.__balance:\n",
        "      print(\"insufficient funds!\")\n",
        "    self.__balance -= amount\n",
        "    print(f\"Withdrew {amount}. new balance: {self.__balance}\")\n",
        "\n",
        "    def get_balance(self):\n",
        "      print(f\"current balance: {self.__balance}\")\n",
        "      return self.__balance\n",
        "\n",
        ""
      ],
      "metadata": {
        "id": "Fu6Cb2rzdwDV"
      },
      "execution_count": 40,
      "outputs": []
    },
    {
      "cell_type": "code",
      "source": [
        "# runtime polymorphism instrument class (play method)\n",
        "\n",
        "# base method\n",
        "class Instrument:\n",
        "  def play(self):\n",
        "    print(\"Instrument is playing\")\n",
        "\n",
        "# derived class\n",
        "class Guitar(Instrument):\n",
        "  def play(self):\n",
        "    print(\"Guitar is playing\")\n",
        "\n",
        "\n",
        "instrument = [Guitar()]\n",
        "for instr in instrument:\n",
        "  print(instr.play())"
      ],
      "metadata": {
        "colab": {
          "base_uri": "https://localhost:8080/"
        },
        "id": "TUz8qMOwdwMH",
        "outputId": "1327c29d-9a1f-4f96-ad76-3e4fb573237a"
      },
      "execution_count": 43,
      "outputs": [
        {
          "output_type": "stream",
          "name": "stdout",
          "text": [
            "Guitar is playing\n",
            "None\n"
          ]
        }
      ]
    },
    {
      "cell_type": "code",
      "source": [
        "# class method and static method: mathoperations\n",
        "\n",
        "class mathoperations:\n",
        "  @classmethod\n",
        "  def add(cls, a, b):\n",
        "    return a + b\n",
        "\n",
        "  @staticmethod\n",
        "  def multiply(cls, a, b):\n",
        "    return a * b\n",
        "\n",
        "print(mathoperations.add(10,5))\n"
      ],
      "metadata": {
        "colab": {
          "base_uri": "https://localhost:8080/"
        },
        "id": "OWk3jf7udwUe",
        "outputId": "0b562714-a8c7-44f8-85c4-e511f9fc1cd4"
      },
      "execution_count": 48,
      "outputs": [
        {
          "output_type": "stream",
          "name": "stdout",
          "text": [
            "15\n"
          ]
        }
      ]
    },
    {
      "cell_type": "code",
      "source": [
        "# counting objects with class method\n",
        "class person:\n",
        "  count = 0\n",
        "\n",
        "  def __init__(self):\n",
        "    self.name = name\n",
        "    person.count += 1\n",
        "\n",
        "  @classmethod\n",
        "  def get_count(cls):\n",
        "    return cls.count"
      ],
      "metadata": {
        "id": "XFvH6oGddwca"
      },
      "execution_count": 54,
      "outputs": []
    },
    {
      "cell_type": "code",
      "source": [
        "# overriding __str__ method\n",
        "\n",
        "class fraction:\n",
        "  def __init__(self, numerator, denominator):\n",
        "    self.numerator = numerator\n",
        "    self.denominator = denominator\n",
        "\n",
        "  def __str__(self):\n",
        "    return f\"{self.numerator}/{self.denominator}\"\n",
        "\n",
        "frac = fraction(3,5)\n",
        "print(frac)"
      ],
      "metadata": {
        "colab": {
          "base_uri": "https://localhost:8080/"
        },
        "id": "oVxdbnTxdwkk",
        "outputId": "e79d6595-2f32-4662-d114-ec96bc580ca4"
      },
      "execution_count": 55,
      "outputs": [
        {
          "output_type": "stream",
          "name": "stdout",
          "text": [
            "3/5\n"
          ]
        }
      ]
    },
    {
      "cell_type": "code",
      "source": [
        "# operator overloading for vectorrs\n",
        "\n",
        "class vector:\n",
        "  def __init__(self, x, y):\n",
        "    self.x = x\n",
        "    self.y = y\n",
        "\n",
        "  def __add__(self, other):\n",
        "    return vector(self.x + other.x, self.y + other.y)\n",
        "\n",
        "v1 = vector(2,3)\n",
        "v2 = vector(4,5)\n",
        "v3 = v1 + v2\n",
        "print(v3)"
      ],
      "metadata": {
        "colab": {
          "base_uri": "https://localhost:8080/"
        },
        "id": "gtVfMFA-dwtq",
        "outputId": "7e233090-3bf1-4fb6-9383-ee7911fce306"
      },
      "execution_count": 59,
      "outputs": [
        {
          "output_type": "stream",
          "name": "stdout",
          "text": [
            "<__main__.vector object at 0x7d5643d79250>\n"
          ]
        }
      ]
    },
    {
      "cell_type": "code",
      "source": [
        "# person class with greet method\n",
        "\n",
        "class person:\n",
        "  def __init__(self, name, age):\n",
        "    self.name = name\n",
        "    self.age = age\n",
        "\n",
        "  def greet(self):\n",
        "    print(f\"Hello, my name is {self.name} and I am {self.age} years old.\")\n",
        "\n",
        "p = person(\"Alice\", 25)\n",
        "print(p.greet())\n"
      ],
      "metadata": {
        "colab": {
          "base_uri": "https://localhost:8080/"
        },
        "id": "R53O_rgndw3V",
        "outputId": "8f24fb78-a2df-434b-8327-d32d7f8fdc27"
      },
      "execution_count": 62,
      "outputs": [
        {
          "output_type": "stream",
          "name": "stdout",
          "text": [
            "Hello, my name is Alice and I am 25 years old.\n",
            "None\n"
          ]
        }
      ]
    },
    {
      "cell_type": "code",
      "source": [
        "# student class with average grade\n",
        "\n",
        "class student:\n",
        "  def __init__(self, name, age, grades):\n",
        "    self.name = name\n",
        "    self.age = age\n",
        "    self.grades = grades\n",
        "\n",
        "  def average_grade(self):\n",
        "    return sum(self.grades) / len(self.grades)\n",
        "\n",
        "\n"
      ],
      "metadata": {
        "id": "WZ2ZT6ThdxAd"
      },
      "execution_count": 67,
      "outputs": []
    },
    {
      "cell_type": "code",
      "source": [
        "# rectabgle class with set dimensions and area\n",
        "\n",
        "class rectangle:\n",
        "  def __init__(self):\n",
        "    self.length = 0\n",
        "    self.width = 0\n",
        "\n",
        "  def set_dimensions(self, length, width):\n",
        "    self.length = length\n",
        "    self.width = width\n",
        "\n",
        "  def area(self):\n",
        "    return self.length * self.width\n",
        "\n",
        "r = rectangle()\n",
        "r.set_dimensions(5, 10)\n",
        "print(r.area())\n",
        "\n"
      ],
      "metadata": {
        "colab": {
          "base_uri": "https://localhost:8080/"
        },
        "id": "XfqAF1jKdxKW",
        "outputId": "fea98e68-f89c-46fb-88d0-8848fc17930a"
      },
      "execution_count": 68,
      "outputs": [
        {
          "output_type": "stream",
          "name": "stdout",
          "text": [
            "50\n"
          ]
        }
      ]
    },
    {
      "cell_type": "code",
      "source": [
        "# employee class with calculate salary and manager subclass\n",
        "\n",
        "class employee:\n",
        "  def __init__(self, name, hours worked, hourly rate):\n",
        "    self.name = name\n",
        "    self.hours_worked = hours_worked\n",
        "    self.hourly_rate = hourly_rate\n",
        "\n",
        "  def calculate_salary(self):\n",
        "    return self.hours_worked * self.hourly_rate\n",
        "\n",
        "class manager(employee):\n",
        "  def __init__(self, name, hours_worked, hourly_rate, bonus):\n",
        "    super().__init__(name, hours_worked, hourly_rate)\n",
        "    self.bonus = bonus\n",
        "\n",
        "  def calculate_salary(self):\n",
        "    return super().calculate_salary() + self.bonus\n"
      ],
      "metadata": {
        "colab": {
          "base_uri": "https://localhost:8080/",
          "height": 110
        },
        "id": "OCi_W5f3dxS4",
        "outputId": "576c4019-c03a-4f31-ec53-8e39426dd3cb"
      },
      "execution_count": 71,
      "outputs": [
        {
          "output_type": "error",
          "ename": "SyntaxError",
          "evalue": "invalid syntax (<ipython-input-71-6e3fc0da45b7>, line 4)",
          "traceback": [
            "\u001b[0;36m  File \u001b[0;32m\"<ipython-input-71-6e3fc0da45b7>\"\u001b[0;36m, line \u001b[0;32m4\u001b[0m\n\u001b[0;31m    def __init__(self, name, hours worked, hourly rate):\u001b[0m\n\u001b[0m                                   ^\u001b[0m\n\u001b[0;31mSyntaxError\u001b[0m\u001b[0;31m:\u001b[0m invalid syntax\n"
          ]
        }
      ]
    },
    {
      "cell_type": "code",
      "source": [
        "# product class with total price\n",
        "\n",
        "class product:\n",
        "  def __init__(self, name, price, quantity):\n",
        "    self.name = name\n",
        "    self.price = price\n",
        "    self.quantity = quantity\n",
        "\n",
        "  def total_price(self):\n",
        "    return self.price * self.quantity\n",
        "\n",
        "p = product(\"laptop\", 50000, 2)\n",
        "print(f\"total price: {p.total_price()}\")"
      ],
      "metadata": {
        "colab": {
          "base_uri": "https://localhost:8080/"
        },
        "id": "F81r_dQgdxcS",
        "outputId": "84c3e8de-5006-48df-c8e4-9f2d8a6acf08"
      },
      "execution_count": 72,
      "outputs": [
        {
          "output_type": "stream",
          "name": "stdout",
          "text": [
            "total price: 100000\n"
          ]
        }
      ]
    },
    {
      "cell_type": "code",
      "source": [
        "# animal class with abstract method sound\n",
        "\n",
        "from abc import ABC, abstractmethod\n",
        "\n",
        "class animal(ABC):\n",
        "  @abstractmethod\n",
        "  def sound(self):\n",
        "    pass\n",
        "\n",
        "class dog(animal):\n",
        "  def sound(self):\n",
        "    print(\"bark!\")\n",
        "\n",
        "class cat(animal):\n",
        "  def sound(self):\n",
        "    print(\"meow!\")\n",
        "\n",
        "d = dog()\n",
        "d.sound()\n",
        "\n",
        "c = cat()\n",
        "c.sound()"
      ],
      "metadata": {
        "colab": {
          "base_uri": "https://localhost:8080/"
        },
        "id": "Hj_4YzJUdxlZ",
        "outputId": "7f2f5b0f-146a-4461-e6b3-ef69b665511a"
      },
      "execution_count": 73,
      "outputs": [
        {
          "output_type": "stream",
          "name": "stdout",
          "text": [
            "bark!\n",
            "meow!\n"
          ]
        }
      ]
    },
    {
      "cell_type": "code",
      "source": [
        "# book class with get book info\n",
        "\n",
        "class book:\n",
        "  def __init__(self, title, author, isbn):\n",
        "    self.title = title\n",
        "    self.author = author\n",
        "    self.isbn = isbn\n",
        "\n",
        "  def get_book_info(self):\n",
        "      return f\"Title: {self.title}, Author: {self.author}, ISBN: {self.isbn}\"\n",
        "\n",
        "\n",
        "b = book(\"The Great Gatsby\", \"F. Scott Fitzgerald\", \"978-0743273565\")\n",
        "print(b.get_book_info())\n",
        ""
      ],
      "metadata": {
        "colab": {
          "base_uri": "https://localhost:8080/"
        },
        "id": "svwtngVrdxta",
        "outputId": "3d9cbef2-4671-4ebf-c8ba-14a7b62b66ad"
      },
      "execution_count": 74,
      "outputs": [
        {
          "output_type": "stream",
          "name": "stdout",
          "text": [
            "Title: The Great Gatsby, Author: F. Scott Fitzgerald, ISBN: 978-0743273565\n"
          ]
        }
      ]
    },
    {
      "cell_type": "code",
      "source": [
        "# house and mansion classes\n",
        "\n",
        "class house:\n",
        "  def __init__(self, address, price, rooms):\n",
        "    self.address = address\n",
        "    self.price = price\n",
        "\n",
        "class mansion(house):\n",
        "  def __init__(self, address, price, number_of_rooms):\n",
        "    super().__init__(address, price)\n",
        "    self.number_of_rooms = number_of_rooms\n"
      ],
      "metadata": {
        "id": "UYozThfkdx34"
      },
      "execution_count": 79,
      "outputs": []
    }
  ]
}